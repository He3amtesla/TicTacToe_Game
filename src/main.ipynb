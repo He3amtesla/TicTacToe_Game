{
 "cells": [
  {
   "cell_type": "markdown",
   "metadata": {},
   "source": [
    "- TicTacToe\n",
    " - __init__\n",
    " - get_random_first_player | رندوم کی شروع کنه\n",
    " - fix_spot: mark bord | هر کی که عددی رو انتخاب میکنه مارک کنیم\n",
    " - has_player_won (self, player) | چک کردن برد\n",
    " - is_board_filled | آیا برد کامل پر شده؟\n",
    " - swap_player_turn | فاانشکنی که بررسی کنه الان نوبت اینه یا الان نوبت اونیکیه \n",
    " - show_board | نشان دادن برد"
   ]
  },
  {
   "cell_type": "code",
   "execution_count": null,
   "metadata": {},
   "outputs": [],
   "source": [
    "import random\n",
    "\n",
    "class TicTacToe():\n",
    "    def __init__(self):\n",
    "        self.board = [' '] * 10 #index 0th is ignore\n",
    "        self.user_turn = get_random_first_player()\n",
    "        \n",
    "    def get_random_first_player(self):\n",
    "        return random.choice(['O', 'X'])\n",
    "        \n",
    "    def show_board(self):\n",
    "        print(\"\\n\")\n",
    "        print((self.board[1] if self.board[1] != ' ' else '1') +'  |  '+ (self.board[2] if self.board[2] != ' ' else '2') +'  |  '+ (self.board[3] if self.board[3] != ' ' else '3'))\n",
    "        print(\"-- -- -- -- -\")\n",
    "        print((self.board[4] if self.board[4] != ' ' else '4') +'  |  '+ (self.board[5] if self.board[5] != ' ' else '5') +'  |  '+ (self.board[6] if self.board[6] != ' ' else '6'))\n",
    "        print(\"-- -- -- -- -\")\n",
    "        print((self.board[7] if self.board[7] != ' ' else '7') +'  |  '+ (self.board[8] if self.board[8] != ' ' else '8') +'  |  '+ (self.board[9] if self.board[9] != ' ' else '9'))\n",
    "        print(\"\\n\")\n",
    "        \n",
    "    def swap_player_turn(self):\n",
    "        self.user_turn = 'O' if self.user_turn == 'X' else 'X'\n",
    "        return self.user_turn\n",
    "    \n",
    "    def is_board_filled(self):\n",
    "        return ' ' not in self.board[1: ]\n",
    "    \n",
    "    def fix_spot(self, cell, player):\n",
    "        self.board[cell] = player\n",
    "        \n",
    "    def has_player_won (self, player):\n",
    "        win_combinations = [\n",
    "            [1, 2, 3], [4, 5, 6], [7, 8, 9], #rows or the same Record\n",
    "            [1, 4, 7], [2, 5, 8], [3, 6, 9], #colums or the same Fields\n",
    "            [1, 5, 9], [3, 5, 7] #Diagonals\n",
    "        ]\n",
    "        \n",
    "        for combination in win_combinations:\n",
    "            if all([self.board[cceell] == player for cceell in combination]):\n",
    "                return True\n",
    "            \n",
    "        return False\n",
    "    \n",
    "    def start(self):\n",
    "        while True:\n",
    "            self.show_board()\n",
    "            print(f\"player{self.user_turn} play\")\n",
    "            cell = int(input(\"Enter cell number from 1 to 9: \"))\n",
    "            \n",
    "            if self.board[cell] == \" \" and cell in range(1,10):\n",
    "                self.fix_spot(cell, self.user_turn)\n",
    "                \n",
    "                if self.has_player_won(self.user_turn):\n",
    "                    self.show_board()\n",
    "                    print(f\"player {self.user_turn} is won!\")\n",
    "                    break\n",
    "                \n",
    "                if self.is_board_filled():\n",
    "                    print(\"Draw\\n\")\n",
    "                    break\n",
    "                \n",
    "                else:\n",
    "                    print(\"invalid cell number؛ try again\")\n",
    "                    \n",
    "                self.swap_player_turn()"
   ]
  },
  {
   "cell_type": "code",
   "execution_count": 87,
   "metadata": {},
   "outputs": [
    {
     "name": "stdout",
     "output_type": "stream",
     "text": [
      "\n",
      "\n",
      "X  |  X  |  X\n",
      "-- -- -- -- -\n",
      "4  |  5  |  6\n",
      "-- -- -- -- -\n",
      "7  |  8  |  9\n",
      "\n",
      "\n"
     ]
    },
    {
     "data": {
      "text/plain": [
       "False"
      ]
     },
     "execution_count": 87,
     "metadata": {},
     "output_type": "execute_result"
    }
   ],
   "source": [
    "obj_1 = TicTacToe()\n",
    "obj_1.fix_spot(3, 'X')\n",
    "obj_1.fix_spot(2, 'X')\n",
    "obj_1.fix_spot(1, 'X')\n",
    "obj_1.show_board()\n",
    "obj_1.has_player_won('O')"
   ]
  },
  {
   "cell_type": "code",
   "execution_count": 84,
   "metadata": {},
   "outputs": [
    {
     "name": "stdout",
     "output_type": "stream",
     "text": [
      "[1, 2, 3]\n",
      "[4, 5, 6]\n",
      "[7, 8, 9]\n",
      "[1, 4, 7]\n",
      "[2, 5, 8]\n",
      "[3, 6, 9]\n",
      "[1, 5, 9]\n",
      "[3, 5, 7]\n"
     ]
    }
   ],
   "source": [
    "win_combinations = [\n",
    "           [1, 2, 3], [4, 5, 6], [7, 8, 9], #rows or the same Record\n",
    "           [1, 4, 7], [2, 5, 8], [3, 6, 9], #colums or the same Fields\n",
    "           [1, 5, 9], [3, 5, 7] #Diagonals\n",
    "       ]\n",
    "for i in win_combinations:\n",
    "    print (i)"
   ]
  },
  {
   "cell_type": "code",
   "execution_count": 76,
   "metadata": {},
   "outputs": [
    {
     "data": {
      "text/plain": [
       "False"
      ]
     },
     "execution_count": 76,
     "metadata": {},
     "output_type": "execute_result"
    }
   ],
   "source": [
    "obj_1.is_board_filled()"
   ]
  },
  {
   "cell_type": "code",
   "execution_count": 59,
   "metadata": {},
   "outputs": [
    {
     "data": {
      "text/plain": [
       "'X'"
      ]
     },
     "execution_count": 59,
     "metadata": {},
     "output_type": "execute_result"
    }
   ],
   "source": [
    "obj_1.user_turn"
   ]
  },
  {
   "cell_type": "code",
   "execution_count": 3,
   "metadata": {},
   "outputs": [
    {
     "data": {
      "text/plain": [
       "[' ', ' ', ' ', ' ', ' ', ' ', ' ', ' ', ' ', ' ']"
      ]
     },
     "execution_count": 3,
     "metadata": {},
     "output_type": "execute_result"
    }
   ],
   "source": [
    "obj_1.board"
   ]
  },
  {
   "cell_type": "code",
   "execution_count": 4,
   "metadata": {},
   "outputs": [],
   "source": [
    "#استاد حجازی گفت: در اول کار نرید دنبال اپشنالیتی(جیز های اضافه)، اول اصل کاری هارو انننننننننننننننجام بدین بعد"
   ]
  },
  {
   "cell_type": "markdown",
   "metadata": {},
   "source": [
    "~16:20  |O|"
   ]
  },
  {
   "cell_type": "code",
   "execution_count": null,
   "metadata": {},
   "outputs": [
    {
     "data": {
      "text/plain": [
       "[str, range(0, 10)]"
      ]
     },
     "execution_count": 6,
     "metadata": {},
     "output_type": "execute_result"
    }
   ],
   "source": [
    "list(map(str, range(10)))"
   ]
  },
  {
   "cell_type": "code",
   "execution_count": null,
   "metadata": {},
   "outputs": [],
   "source": []
  }
 ],
 "metadata": {
  "kernelspec": {
   "display_name": "py310",
   "language": "python",
   "name": "python3"
  },
  "language_info": {
   "codemirror_mode": {
    "name": "ipython",
    "version": 3
   },
   "file_extension": ".py",
   "mimetype": "text/x-python",
   "name": "python",
   "nbconvert_exporter": "python",
   "pygments_lexer": "ipython3",
   "version": "3.10.15"
  }
 },
 "nbformat": 4,
 "nbformat_minor": 2
}
