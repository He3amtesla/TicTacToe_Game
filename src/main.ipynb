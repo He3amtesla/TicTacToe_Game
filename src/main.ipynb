{
 "cells": [
  {
   "cell_type": "markdown",
   "metadata": {},
   "source": [
    "- TicTacToe\n",
    " - __init__\n",
    " - get_random_first_player | رندوم کی شروع کنه\n",
    " - fix_spot: mark bord | هر کی که عددی رو انتخاب میکنه مارک کنیم\n",
    " - has_player_won (self, player) | چک کردن برد\n",
    " - is_board_filled | آیا برد کامل پر شده؟\n",
    " - swap_player_turn | فاانشکنی که بررسی کنه الان نوبت اینه یا الان نوبت اونیکیه \n",
    " - show_board | نشان دادن برد"
   ]
  },
  {
   "cell_type": "code",
   "execution_count": 56,
   "metadata": {},
   "outputs": [],
   "source": [
    "class TicTacToe():\n",
    "    def __init__(self):\n",
    "        self.board = [\" \"] * 10 #index 0th is ignore\n",
    "        self.user_turn = 'O'\n",
    "    \n",
    "    def show_board(self):\n",
    "        print(\"\\n\")\n",
    "        print((self.board[1] if self.board[1] != ' ' else '1') +'  |  '+ (self.board[2] if self.board[2] != ' ' else '2') +'  |  '+ (self.board[3] if self.board[3] != ' ' else '3'))\n",
    "        print(\"-- -- -- -- -\")\n",
    "        print((self.board[4] if self.board[4] != ' ' else '4') +'  |  '+ (self.board[5] if self.board[5] != ' ' else '5') +'  |  '+ (self.board[6] if self.board[6] != ' ' else '6'))\n",
    "        print(\"-- -- -- -- -\")\n",
    "        print((self.board[7] if self.board[7] != ' ' else '7') +'  |  '+ (self.board[8] if self.board[8] != ' ' else '8') +'  |  '+ (self.board[9] if self.board[9] != ' ' else '9'))\n",
    "        print(\"\\n\")"
   ]
  },
  {
   "cell_type": "code",
   "execution_count": 57,
   "metadata": {},
   "outputs": [
    {
     "name": "stdout",
     "output_type": "stream",
     "text": [
      "\n",
      "\n",
      "1  |  2  |  3\n",
      "-- -- -- -- -\n",
      "4  |  5  |  6\n",
      "-- -- -- -- -\n",
      "7  |  8  |  9\n",
      "\n",
      "\n"
     ]
    }
   ],
   "source": [
    "obj_1 = TicTacToe()\n",
    "obj_1.show_board()"
   ]
  },
  {
   "cell_type": "code",
   "execution_count": 58,
   "metadata": {},
   "outputs": [
    {
     "data": {
      "text/plain": [
       "[' ', ' ', ' ', ' ', ' ', ' ', ' ', ' ', ' ', ' ']"
      ]
     },
     "execution_count": 58,
     "metadata": {},
     "output_type": "execute_result"
    }
   ],
   "source": [
    "obj_1.board"
   ]
  },
  {
   "cell_type": "code",
   "execution_count": 59,
   "metadata": {},
   "outputs": [],
   "source": [
    "#استاد حجازی گفت: در اول کار نرید دنبال اپشنالیتی(جیز های اضافه)، اول اصل کاری هارو انننننننننننننننجام بدین بعد"
   ]
  },
  {
   "cell_type": "markdown",
   "metadata": {},
   "source": [
    "~16:20  |O|"
   ]
  }
 ],
 "metadata": {
  "kernelspec": {
   "display_name": "py310",
   "language": "python",
   "name": "python3"
  },
  "language_info": {
   "codemirror_mode": {
    "name": "ipython",
    "version": 3
   },
   "file_extension": ".py",
   "mimetype": "text/x-python",
   "name": "python",
   "nbconvert_exporter": "python",
   "pygments_lexer": "ipython3",
   "version": "3.10.15"
  }
 },
 "nbformat": 4,
 "nbformat_minor": 2
}
